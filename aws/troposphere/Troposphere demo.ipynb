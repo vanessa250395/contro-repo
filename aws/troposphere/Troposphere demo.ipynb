{
 "cells": [
  {
   "cell_type": "code",
   "execution_count": 2,
   "metadata": {},
   "outputs": [
    {
     "data": {
      "text/plain": [
       "<troposphere.ec2.Instance at 0x103b6ea58>"
      ]
     },
     "execution_count": 2,
     "metadata": {},
     "output_type": "execute_result"
    }
   ],
   "source": [
    "from troposphere import Ref, Template\n",
    "import troposphere.ec2 as ec2\n",
    "t = Template()\n",
    "instance = ec2.Instance(\"myinstance\")\n",
    "instance.ImageId = \"ami-951945d0\"\n",
    "instance.InstanceType = \"t1.micro\"\n",
    "t.add_resource(instance)\n"
   ]
  },
  {
   "cell_type": "code",
   "execution_count": 3,
   "metadata": {},
   "outputs": [
    {
     "data": {
      "text/plain": [
       "'Resources:\\n  myinstance:\\n    Properties:\\n      ImageId: ami-951945d0\\n      InstanceType: t1.micro\\n    Type: AWS::EC2::Instance\\n'"
      ]
     },
     "execution_count": 3,
     "metadata": {},
     "output_type": "execute_result"
    }
   ],
   "source": [
    "t.to_yaml()"
   ]
  },
  {
   "cell_type": "code",
   "execution_count": 5,
   "metadata": {},
   "outputs": [
    {
     "name": "stdout",
     "output_type": "stream",
     "text": [
      "Resources:\n",
      "  myinstance:\n",
      "    Properties:\n",
      "      ImageId: ami-951945d0\n",
      "      InstanceType: t1.micro\n",
      "    Type: AWS::EC2::Instance\n",
      "\n"
     ]
    }
   ],
   "source": [
    "print(t.to_yaml())"
   ]
  },
  {
   "cell_type": "code",
   "execution_count": null,
   "metadata": {},
   "outputs": [],
   "source": []
  }
 ],
 "metadata": {
  "kernelspec": {
   "display_name": "Python 3",
   "language": "python",
   "name": "python3"
  },
  "language_info": {
   "codemirror_mode": {
    "name": "ipython",
    "version": 3
   },
   "file_extension": ".py",
   "mimetype": "text/x-python",
   "name": "python",
   "nbconvert_exporter": "python",
   "pygments_lexer": "ipython3",
   "version": "3.6.1"
  }
 },
 "nbformat": 4,
 "nbformat_minor": 2
}
